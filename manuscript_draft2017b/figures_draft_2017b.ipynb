{
 "cells": [
  {
   "attachments": {},
   "cell_type": "markdown",
   "metadata": {},
   "source": [
    "# figures_draft2017b.ipynb\n",
    "\n",
    "## Purpose\n",
    "Produce figures for *\"Effective radiative forcing in the aerosol-climate model CAM5.3-MARC-ARG\"*, based on results from project [p17c-marc-comparison](https://github.com/grandey/p17c-marc-comparison).\n",
    "\n",
    "## Requirements\n",
    "- NetCDF files produced by [analysis_cdo_nco_draft2017b.ipynb](https://github.com/grandey/p17c-marc-comparison/blob/master/manuscript_draft2017b/analysis_cdo_nco_draft2017b.ipynb).\n",
    "- Python modules mentioned in next cell, inlcuding [climapy](https://github.com/grandey/climapy).\n",
    "\n",
    "## Author\n",
    "Benjamin S. Grandey, 2017"
   ]
  },
  {
   "cell_type": "code",
   "execution_count": 1,
   "metadata": {},
   "outputs": [
    {
     "name": "stdout",
     "output_type": "stream",
     "text": [
      "climapy.__version__ = 0.0.1+54ace0a\n",
      "numpy.__version__ = 1.13.3\n",
      "pandas.__version__ = 0.21.0\n",
      "scipy.__version__ = 0.19.1\n",
      "xarray.__version__ = 0.9.6\n"
     ]
    }
   ],
   "source": [
    "import climapy\n",
    "from glob import glob\n",
    "import matplotlib\n",
    "import matplotlib.gridspec as gridspec\n",
    "import matplotlib.pyplot as plt\n",
    "from mpl_toolkits.basemap import Basemap\n",
    "import numpy as np\n",
    "import os\n",
    "import pandas as pd\n",
    "import scipy\n",
    "from scipy import stats\n",
    "import xarray as xr\n",
    "\n",
    "# Print versions of packages\n",
    "for module in [climapy, np, pd, scipy, xr]:\n",
    "    try:\n",
    "        print('{}.__version__ = {}'.format(module.__name__, module.__version__))\n",
    "    except AttributeError:\n",
    "        pass\n",
    "\n",
    "%matplotlib inline\n",
    "matplotlib.rcParams['figure.dpi']= 40  # reduce resolution of inline figures to reduce notebook size"
   ]
  },
  {
   "cell_type": "markdown",
   "metadata": {},
   "source": [
    "## Post-processed data file location\n",
    "Location of files written by [analysis_cdo_nco_draft2017b.ipynb](https://github.com/grandey/p17c-marc-comparison/blob/master/manuscript_draft2017b/analysis_cdo_nco_draft2017b.ipynb)."
   ]
  },
  {
   "cell_type": "code",
   "execution_count": 2,
   "metadata": {
    "collapsed": true
   },
   "outputs": [],
   "source": [
    "in_dir = os.path.expandvars('$HOME/data/projects/p17c_marc_comparison/analysis_cdo_nco_draft2017b/')"
   ]
  },
  {
   "cell_type": "markdown",
   "metadata": {},
   "source": [
    "## Function to produce zonal mean line plot\n",
    "- Put latitude on y-axis for consistency with maps"
   ]
  },
  {
   "cell_type": "code",
   "execution_count": 3,
   "metadata": {},
   "outputs": [
    {
     "data": {
      "image/png": "[encoded data removed]",
      "text/plain": [
       "<matplotlib.figure.Figure at 0x11320b048>"
      ]
     },
     "metadata": {},
     "output_type": "display_data"
    },
    {
     "data": {
      "image/png": "[encoded data removed]",
      "text/plain": [
       "<matplotlib.figure.Figure at 0x1152aedd8>"
      ]
     },
     "metadata": {},
     "output_type": "display_data"
    }
   ],
   "source": [
    "def zonal_mean_line_plot(year='2000', model_var_dict={'mam3': 'BURDENPOM'}, domain='atm',\n",
    "                         sf=None, xlabel=None, xlim=None,\n",
    "                         ylabel=True, \n",
    "                         title=None,\n",
    "                         ax=None):\n",
    "    # Create Axes if no Axes passed as an argument\n",
    "    if ax is None:\n",
    "        fig, ax = plt.subplots(1, 1, figsize=(4, 4))\n",
    "    # If no scale-factor specified, set as 1\n",
    "    if sf is None:\n",
    "        sf = 1\n",
    "    # Loop over model-variable combinations\n",
    "    for model, variable in model_var_dict.items():\n",
    "        if variable is not None:\n",
    "            # Color based on model\n",
    "            if model == 'marc':\n",
    "                c = 'r'\n",
    "                alpha = 1\n",
    "                linestyle = '-'\n",
    "            elif model == 'mam3':\n",
    "                c = 'g'\n",
    "                alpha = 0.75\n",
    "                linestyle = '--'\n",
    "            elif model == 'mam7':\n",
    "                c = 'b'\n",
    "                alpha = 0.5\n",
    "                linestyle = ':'\n",
    "            # Case 1: single year (1850 or 2000)\n",
    "            if year in ['1850', '2000']:\n",
    "                # Load annual mean data\n",
    "                in_filename = '{}/{}_{}_{}_ANN.nc'.format(in_dir, model, year, variable)\n",
    "                data = xr.open_dataset(in_filename, decode_times=False)\n",
    "                data = data.isel(time=slice(2, None))  # exlcude first two years as spin-up\n",
    "                data = climapy.cesm_time_from_bnds(data)  # populate time dimension using climapy\n",
    "                # Calculate zonal mean\n",
    "                zm = data.mean(dim='lon')\n",
    "                # If 3D field, get data for surface\n",
    "                if 'lev' in zm.dims:\n",
    "                    zm = zm.isel(lev=-1)\n",
    "                # Plot line - showing mean across time\n",
    "                tm = zm.mean(dim='time')[variable].data.flatten() * sf\n",
    "                ax.plot(tm, zm['lat'].data,\n",
    "                        c=c, alpha=alpha, linestyle=linestyle,\n",
    "                        label=model.upper())\n",
    "                # Plot shading - based on standard error\n",
    "                error = zm.std(dim='time', ddof=1)[variable].data.flatten() / np.sqrt(zm['time'].size) * sf\n",
    "                ax.fill_betweenx(zm['lat'].data, tm-error, tm+error,\n",
    "                                 facecolor=c, alpha=0.2)\n",
    "                # Close dataset\n",
    "                data.close()\n",
    "            # Case 2: difference (2000-1850)\n",
    "            if year == '2000-1850':\n",
    "                # Load annual mean data\n",
    "                in_filename1 = '{}/{}_{}_{}_ANN.nc'.format(in_dir, model, '2000', variable)\n",
    "                in_filename2 = '{}/{}_{}_{}_ANN.nc'.format(in_dir, model, '1850', variable)\n",
    "                data1 = xr.open_dataset(in_filename1, decode_times=False)\n",
    "                data1 = data1.isel(time=slice(2, None))\n",
    "                data1 = climapy.cesm_time_from_bnds(data1)\n",
    "                data2 = xr.open_dataset(in_filename2, decode_times=False)\n",
    "                data2 = data2.isel(time=slice(2, None))\n",
    "                data2 = climapy.cesm_time_from_bnds(data2)\n",
    "                # Calculate zonal means\n",
    "                zm1 = data1.mean(dim='lon')\n",
    "                zm2 = data2.mean(dim='lon')\n",
    "                # If 3D field, get data for surface\n",
    "                if 'lev' in zm1.dims:\n",
    "                    zm1 = zm1.isel(lev=-1)\n",
    "                    zm2 = zm2.isel(lev=-1)\n",
    "                # Plot line - showing difference of means across time\n",
    "                tm1 = zm1.mean(dim='time')[variable].data.flatten() * sf\n",
    "                tm2 = zm2.mean(dim='time')[variable].data.flatten() * sf\n",
    "                tm = tm1 - tm2\n",
    "                ax.plot(tm, zm1['lat'].data,\n",
    "                        c=c, alpha=alpha, linestyle=linestyle,\n",
    "                        label=model.upper())\n",
    "                # Plot shading - based on combined standard error\n",
    "                error1 = zm1.std(dim='time', ddof=1)[variable].data.flatten() / np.sqrt(zm1['time'].size) * sf\n",
    "                error2 = zm2.std(dim='time', ddof=1)[variable].data.flatten() / np.sqrt(zm2['time'].size) * sf\n",
    "                error = np.sqrt(error1**2 + error2**2)\n",
    "                ax.fill_betweenx(zm1['lat'].data, tm-error, tm+error,\n",
    "                                 facecolor=c, alpha=0.2)\n",
    "                # Close datasets\n",
    "                data1.close()\n",
    "                data2.close()\n",
    "    # Lines showing zero\n",
    "    ax.axhline(0, c='k', alpha=0.2, linewidth=1, linestyle='--')\n",
    "    ax.axvline(0, c='k', alpha=0.2, linewidth=1, linestyle='--')\n",
    "    # y-axis\n",
    "    ax.set_ylim([-90, 90])\n",
    "    ax.set_yticks(np.arange(-90, 91, 30))\n",
    "    if ylabel:\n",
    "        ax.set_ylabel(r'Latitude, $^\\circ$N', fontsize='large')\n",
    "    # x-axis\n",
    "    if xlabel:\n",
    "        ax.set_xlabel(xlabel, fontsize='large')\n",
    "    if xlim:\n",
    "        ax.set_xlim(xlim)\n",
    "    # Title and legend\n",
    "    if title:\n",
    "        ax.set_title(title, fontsize='large')\n",
    "    ax.legend()\n",
    "    return ax\n",
    "\n",
    "# Examples\n",
    "if True:\n",
    "    # Example 1\n",
    "    fig, axs = plt.subplots(1, 2, figsize=(8, 3), sharey=True, sharex=True)\n",
    "    for year, ylabel, title, ax in zip(['1850', '2000'], [True, False], ['(a) Year-1850', '(b) Year-2000'], axs):\n",
    "        zonal_mean_line_plot(year=year, model_var_dict={'marc': 'BC_LDG', 'mam3': 'BURDENBC'},\n",
    "                             sf=1e6, xlabel=r'BC column burden, mg m$^{-2}$', xlim=[0, 0.35],\n",
    "                             ylabel=ylabel, title=title, ax=ax)\n",
    "    # Example 2\n",
    "    ax = zonal_mean_line_plot(year='2000-1850', model_var_dict={'marc': 'cFNTOA', 'mam3': 'cFNTOA'},\n",
    "                              xlabel=r'Net RFP, W m$^{-2}$')"
   ]
  }
 ],
 "metadata": {
  "anaconda-cloud": {},
  "kernelspec": {
   "display_name": "Python [conda root]",
   "language": "python",
   "name": "conda-root-py"
  },
  "language_info": {
   "codemirror_mode": {
    "name": "ipython",
    "version": 3
   },
   "file_extension": ".py",
   "mimetype": "text/x-python",
   "name": "python",
   "nbconvert_exporter": "python",
   "pygments_lexer": "ipython3",
   "version": "3.6.3"
  }
 },
 "nbformat": 4,
 "nbformat_minor": 2
}
