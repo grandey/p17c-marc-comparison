{
 "cells": [
  {
   "cell_type": "markdown",
   "metadata": {},
   "source": [
    "# erf_table_draft2017b.ipynb\n",
    "\n",
    "## Purpose\n",
    "Calculate area-weighted mean global radiative effects for *\"Effective radiative forcing in the aerosol-climate model CAM5.3-MARC-ARG\"*, based on results from project [p17c-marc-comparison](https://github.com/grandey/p17c-marc-comparison).\n",
    "\n",
    "## Requirements\n",
    "- NetCDF files produced by [analysis_cdo_nco_draft2017b.ipynb](https://github.com/grandey/p17c-marc-comparison/blob/master/analysis_draft2017b/analysis_cdo_nco_draft2017b.ipynb).\n",
    "- Python modules mentioned in cell #2, inlcuding [climapy](https://github.com/grandey/climapy) ([doi:10.5281/zenodo.1053020](https://doi.org/10.5281/zenodo.1053020)).\n",
    "\n",
    "## Author\n",
    "Benjamin S. Grandey, 2018"
   ]
  },
  {
   "cell_type": "code",
   "execution_count": 1,
   "metadata": {},
   "outputs": [],
   "source": [
    "! date"
   ]
  },
  {
   "cell_type": "code",
   "execution_count": 2,
   "metadata": {},
   "outputs": [
    {
     "name": "stdout",
     "output_type": "stream",
     "text": [
      "climapy.__version__ = 0.1.0+b35937c\n",
      "numpy.__version__ = 1.14.3\n",
      "xarray.__version__ = 0.10.4\n"
     ]
    }
   ],
   "source": [
    "import climapy\n",
    "import os\n",
    "import numpy as np\n",
    "import xarray as xr\n",
    "\n",
    "# Print versions of packages\n",
    "for module in [climapy, np, xr]:\n",
    "    try:\n",
    "        print('{}.__version__ = {}'.format(module.__name__, module.__version__))\n",
    "    except AttributeError:\n",
    "        pass"
   ]
  },
  {
   "cell_type": "markdown",
   "metadata": {},
   "source": [
    "## Post-processed data file location\n",
    "Location of files written by [analysis_cdo_nco_draft2017b.ipynb](https://github.com/grandey/p17c-marc-comparison/blob/master/analysis_draft2017b/analysis_cdo_nco_draft2017b.ipynb)."
   ]
  },
  {
   "cell_type": "code",
   "execution_count": 3,
   "metadata": {},
   "outputs": [],
   "source": [
    "in_dir = os.path.expandvars('$HOME/data/projects/p17c_marc_comparison/analysis_cdo_nco_draft2017b/')"
   ]
  },
  {
   "cell_type": "markdown",
   "metadata": {},
   "source": [
    "## Read global means and standard errors into dictionaries"
   ]
  },
  {
   "cell_type": "code",
   "execution_count": 4,
   "metadata": {},
   "outputs": [],
   "source": [
    "model_var_dict_list = [\n",
    "    {'mam3': 'cDRE', 'mam7': 'cDRE', 'marc_s2': 'cDRE', },\n",
    "    {'mam3': 'SWCF_d1', 'mam7': 'SWCF_d1', 'marc_s2': 'CRF'},\n",
    "    {'mam3': 'LWCF', 'mam7': 'LWCF', 'marc_s2': 'LWCF'},\n",
    "    {'mam3': 'FSNTOAC_d1', 'mam7': 'FSNTOAC_d1', 'marc_s2': 'FSNTOACNOA'},\n",
    "    {'mam3': 'cFNTOA', 'mam7': 'cFNTOA', 'marc_s2': 'cFNTOA'}]"
   ]
  },
  {
   "cell_type": "code",
   "execution_count": 5,
   "metadata": {},
   "outputs": [
    {
     "name": "stdout",
     "output_type": "stream",
     "text": [
      "mam3   , cDRE      :  -0.02 ± 0.01\n",
      "mam7   , cDRE      :  -0.00 ± 0.01\n",
      "marc_s2, cDRE      :  -0.17 ± 0.01\n",
      "mam3   , SWCF_d1   :  -2.09 ± 0.04\n",
      "mam7   , SWCF_d1   :  -2.05 ± 0.04\n",
      "marc_s2, CRF       :  -2.17 ± 0.04\n",
      "mam3   , LWCF      :  +0.54 ± 0.02\n",
      "mam7   , LWCF      :  +0.53 ± 0.02\n",
      "marc_s2, LWCF      :  +0.66 ± 0.01\n",
      "mam3   , FSNTOAC_d1:  +0.00 ± 0.02\n",
      "mam7   , FSNTOAC_d1:  -0.02 ± 0.02\n",
      "marc_s2, FSNTOACNOA:  -0.10 ± 0.02\n",
      "mam3   , cFNTOA    :  -1.57 ± 0.04\n",
      "mam7   , cFNTOA    :  -1.53 ± 0.04\n",
      "marc_s2, cFNTOA    :  -1.79 ± 0.03\n",
      "Mon Jul 30 16:26:41 +08 2018\n"
     ]
    }
   ],
   "source": [
    "# Initialise dictionaries\n",
    "mean_dict = {}  # mean global totals\n",
    "error_dict = {}  # standard errors, based on annual means\n",
    "# Loop over model, variable combinations\n",
    "for model_var_dict in model_var_dict_list:\n",
    "    for model, variable in model_var_dict.items():\n",
    "        # Loop over years\n",
    "        for year in ['2000', '1850']:\n",
    "            model_var_year = (model, variable, year)\n",
    "            # Read input data\n",
    "            in_filename = '{}/{}_{}_{}_ANN.nc'.format(in_dir, model, year, variable)\n",
    "            in_ds = xr.open_dataset(in_filename, decode_times=False)[variable]\n",
    "            # Exclude first two years as spin-up\n",
    "            data = in_ds.isel(time=slice(2, None))\n",
    "            # Calculate area-weighted mean\n",
    "            totals = climapy.xr_area_weighted_stat(data, stat='mean')\n",
    "            # Calculate mean across years\n",
    "            mean_dict[model_var_year] = float(totals.mean())\n",
    "            # Calculate standard error\n",
    "            error = totals.std(dim='time', ddof=1).data.flatten() / np.sqrt(totals['time'].size)\n",
    "            error_dict[model_var_year] = float(error)\n",
    "            # Close input file\n",
    "            in_ds.close()\n",
    "        # Calculate 2000-1850 diff\n",
    "        mean_2000 = mean_dict[(model, variable, '2000')]\n",
    "        mean_1850 = mean_dict[(model, variable, '1850')]\n",
    "        error_2000 = error_dict[(model, variable, '2000')]\n",
    "        error_1850 = error_dict[(model, variable, '1850')]\n",
    "        mean_diff = mean_2000 - mean_1850\n",
    "        error_diff = np.sqrt(error_2000**2 + error_1850**2)\n",
    "        mean_dict[(model, variable, '2000-1850')] = mean_diff\n",
    "        error_dict[(model, variable, '2000-1850')] = error_diff\n",
    "        # Print result\n",
    "        print('{:7}, {:10}: {:+6.2f} ± {:4.2f}'.format(model, variable, mean_diff, error_diff))\n",
    "!date"
   ]
  },
  {
   "cell_type": "markdown",
   "metadata": {},
   "source": [
    "Values above can be copied in Table 5 of manuscript."
   ]
  }
 ],
 "metadata": {
  "kernelspec": {
   "display_name": "Python [conda root]",
   "language": "python",
   "name": "conda-root-py"
  },
  "language_info": {
   "codemirror_mode": {
    "name": "ipython",
    "version": 3
   },
   "file_extension": ".py",
   "mimetype": "text/x-python",
   "name": "python",
   "nbconvert_exporter": "python",
   "pygments_lexer": "ipython3",
   "version": "3.6.5"
  }
 },
 "nbformat": 4,
 "nbformat_minor": 2
}
